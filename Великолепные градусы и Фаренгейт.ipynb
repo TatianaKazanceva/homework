{
 "cells": [
  {
   "cell_type": "markdown",
   "metadata": {},
   "source": [
    "# Домашняя работа\n",
    "\n",
    "Написать программу, которая просит ввести температуру в [градусах цельсия или фаренгейта](https://ru.wikipedia.org/wiki/%D0%93%D1%80%D0%B0%D0%B4%D1%83%D1%81_%D0%A4%D0%B0%D1%80%D0%B5%D0%BD%D0%B3%D0%B5%D0%B9%D1%82%D0%B0) (12C или 100F). Программа должна проверить корректность ввода, а затем вывести значение в другой шкала: если ввод был в цельсиях, то вывод - в фаренгейтах и наоборот.\n",
    "\n",
    "Ввод: 40C\n",
    "Вывод: 104F"
   ]
  },
  {
   "cell_type": "code",
   "execution_count": 9,
   "metadata": {},
   "outputs": [
    {
     "name": "stdout",
     "output_type": "stream",
     "text": [
      "Введите градусы Цельсия: 40\n",
      "40 градусов Цельсия равно 104.0 градусам Фаренгейта\n"
     ]
    }
   ],
   "source": [
    "try:\n",
    "    c = int(input('Введите градусы Цельсия: '))\n",
    "    farenheit = ((c*9)/5)+32\n",
    "    print(f'{c} градусов Цельсия равно {f} градусам Фаренгейта')   \n",
    "except ValueError:\n",
    "    print('Введено нечисловое значение, введите число') \n"
   ]
  },
  {
   "cell_type": "code",
   "execution_count": 12,
   "metadata": {},
   "outputs": [
    {
     "name": "stdout",
     "output_type": "stream",
     "text": [
      "Введите градусы Фаренгейта: 104\n",
      "104 градусов Фаренгейта равно 40 градусам Цельсия\n"
     ]
    }
   ],
   "source": [
    "try:\n",
    "    f = int(input('Введите градусы Фаренгейта: '))\n",
    "    celsius = (farenheit - 32)/1.8\n",
    "    print(f'{f} градусов Фаренгейта равно {c} градусам Цельсия')   \n",
    "except ValueError:\n",
    "    print('Введено нечисловое значение, введите число') "
   ]
  }
 ],
 "metadata": {
  "kernelspec": {
   "display_name": "Python 3 (ipykernel)",
   "language": "python",
   "name": "python3"
  },
  "language_info": {
   "codemirror_mode": {
    "name": "ipython",
    "version": 3
   },
   "file_extension": ".py",
   "mimetype": "text/x-python",
   "name": "python",
   "nbconvert_exporter": "python",
   "pygments_lexer": "ipython3",
   "version": "3.11.5"
  }
 },
 "nbformat": 4,
 "nbformat_minor": 4
}
