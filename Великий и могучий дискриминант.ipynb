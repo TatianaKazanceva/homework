{
 "cells": [
  {
   "cell_type": "markdown",
   "metadata": {
    "slideshow": {
     "slide_type": "notes"
    }
   },
   "source": [
    "# Тут будет домашка про дискриминант"
   ]
  },
  {
   "cell_type": "code",
   "execution_count": null,
   "metadata": {},
   "outputs": [
    {
     "name": "stdout",
     "output_type": "stream",
     "text": [
      "Введите данные \n",
      "ax^2+bx+c=0 \n"
     ]
    }
   ],
   "source": [
    "#import math #чтобы было на всякий случай\n",
    "#from math import sqrt #Тоже чтобы было\n",
    "\n",
    "print(\"Введите данные \")\n",
    "print(\"ax^2+bx+c=0 \")\n",
    "\n",
    "a=int(input(\"a = \")) \n",
    "b=int(input(\"b = \")) \n",
    "c=int(input(\"c = \")) \n",
    " \n",
    "discr=b**2-4*a*c\n",
    "print(\"Дискриминант D = %.2f\" % discr)\n",
    " \n",
    "if discr > 0:\n",
    "    x1 = (-b+sqrt(discr))/(2*a)\n",
    "    x2 = (-b-sqrt(discr))/(2*a)\n",
    "    print(\"x1=%.2f\\nx2=%.2f\" % (x1, x2))\n",
    "elif discr == 0:\n",
    "    x=-b/(2*a)\n",
    "    print(\"x=%.2f\"%x)\n",
    "else:\n",
    "    print(\"Корней нет\")"
   ]
  }
 ],
 "metadata": {
  "kernelspec": {
   "display_name": "Python 3 (ipykernel)",
   "language": "python",
   "name": "python3"
  },
  "language_info": {
   "codemirror_mode": {
    "name": "ipython",
    "version": 3
   },
   "file_extension": ".py",
   "mimetype": "text/x-python",
   "name": "python",
   "nbconvert_exporter": "python",
   "pygments_lexer": "ipython3",
   "version": "3.11.5"
  }
 },
 "nbformat": 4,
 "nbformat_minor": 4
}
