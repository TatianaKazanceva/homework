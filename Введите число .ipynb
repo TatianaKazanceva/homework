{
 "cells": [
  {
   "cell_type": "markdown",
   "metadata": {},
   "source": [
    "# Домашнее задание\n",
    "\n",
    "Вам нужно написать программу, которая будет просить пользователя ввести число от 0 до 99. Затем ваша программа должна вывести данное число прописью. Дополнительно, ваша программа должна проверять корректность ввода пользователя и сообщать ему о том, что он ввел неправильную строку.\n",
    "\n",
    "__Пример:__\n",
    "\n",
    "* Вход: 23\n",
    "* Вывод: двадцать три\n",
    "\n",
    "\n",
    "* Вход: foo\n",
    "* Вывод: Вы должны ввести число"
   ]
  },
  {
   "cell_type": "code",
   "execution_count": null,
   "metadata": {
    "scrolled": true
   },
   "outputs": [],
   "source": [
    "x = 0\n",
    "\n",
    "try:\n",
    "    num=int(input(\"Введите ваше число в промежутке от 0 до 99 \")) \n",
    "    def num_to_words(num):\n",
    "        units = ['Ноль', 'Один', 'Два', 'Три', 'Четыре', 'Пять', 'Шесть', 'Семь', 'Восемь', 'Девять']\n",
    "        teens = ['Десять', 'Одиннадцать', 'Двенадцать', 'Тринадцать', 'Четырнадцать', 'Пятнадцать', 'Шестнадцать', 'Семнадцать', 'Восемнадцать', 'Девятнадцать']\n",
    "        tens = ['Двадцать', 'Тридцать', 'Сорок', 'Пятьдесят', 'Шестьдесят', 'Семьдесят', 'Восемьдесят', 'Девяносто']\n",
    "        \n",
    "        if 0 <= num <= 9:\n",
    "            return units[num]\n",
    "        elif 10 <= num <= 19:\n",
    "            return teens[num - 10]\n",
    "        elif 20 <= num <= 99:\n",
    "            if num % 10 == 0:\n",
    "                return tens[num // 10 - 2]\n",
    "            else:\n",
    "                return f\"{tens[num // 10 - 2]} {units[num % 10]}\"\n",
    "        else:\n",
    "            return \"ВВЕДЕННОЕ ЧИСЛО НЕ ЛЕЖИТ В ПРОМЕЖУТКЕ ОТ 0 ДО 99 \"    \n",
    "        \n",
    "except ValueError as ve:\n",
    "        x = 1\n",
    "        print(\"Введите число\") \n",
    "if x == 1:\n",
    "    print(\"\")\n",
    "else:\n",
    "    word = num_to_words(num)\n",
    "    print(word)\n",
    "\n",
    "    #Вроде рабоатет, но я не поняла, как сделать так, чтобы вторая цифра в составном числе писалась с маленькой буквы"
   ]
  }
 ],
 "metadata": {
  "kernelspec": {
   "display_name": "Python 3 (ipykernel)",
   "language": "python",
   "name": "python3"
  },
  "language_info": {
   "codemirror_mode": {
    "name": "ipython",
    "version": 3
   },
   "file_extension": ".py",
   "mimetype": "text/x-python",
   "name": "python",
   "nbconvert_exporter": "python",
   "pygments_lexer": "ipython3",
   "version": "3.11.5"
  }
 },
 "nbformat": 4,
 "nbformat_minor": 4
}
