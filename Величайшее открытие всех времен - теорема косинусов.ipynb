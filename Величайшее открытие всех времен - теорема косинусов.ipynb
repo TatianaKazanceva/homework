{
 "cells": [
  {
   "cell_type": "markdown",
   "metadata": {},
   "source": [
    "# Домашнее задание\n",
    "\n",
    "Вам необходимо написать программу, которая находит длину третьей стороны произвольного треугольника по двум его сторонам и углу между ними. Можно использовать для этого [теорему косинусов](https://ru.wikipedia.org/wiki/%D0%A2%D0%B5%D0%BE%D1%80%D0%B5%D0%BC%D0%B0_%D0%BA%D0%BE%D1%81%D0%B8%D0%BD%D1%83%D1%81%D0%BE%D0%B2).\n",
    "\n",
    "Таким образом, программа должна спрашивать пользователя параметры треугольника: длину первой стороны, длину второй стороны и угол между ними в градусах."
   ]
  },
  {
   "cell_type": "code",
   "execution_count": null,
   "metadata": {},
   "outputs": [],
   "source": [
    "import math #Чтобы было\n",
    "#from math import sqrt #Без этого не работает\n",
    "\n",
    "#Вводим длинну первой стороны\n",
    "a=int(input('Введите длину первой стороны: a = '))\n",
    "#Вводим длинну второй стороны\n",
    "b=int(input('Введите длину второй стороны: b = '))\n",
    "#Вводим градус угла\n",
    "x=int(input('Введите угол между этими сторонами: '))\n",
    "\n",
    "cosx = math.cos(math.radians(x))\n",
    "\n",
    "c = sqrt((a**2+b**2)-(2*a*b*cosx))\n",
    "\n",
    "print(c)"
   ]
  }
 ],
 "metadata": {
  "kernelspec": {
   "display_name": "Python 3 (ipykernel)",
   "language": "python",
   "name": "python3"
  },
  "language_info": {
   "codemirror_mode": {
    "name": "ipython",
    "version": 3
   },
   "file_extension": ".py",
   "mimetype": "text/x-python",
   "name": "python",
   "nbconvert_exporter": "python",
   "pygments_lexer": "ipython3",
   "version": "3.11.5"
  }
 },
 "nbformat": 4,
 "nbformat_minor": 4
}
